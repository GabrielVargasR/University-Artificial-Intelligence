{
 "cells": [
  {
   "cell_type": "markdown",
   "metadata": {},
   "source": [
    "# Keras Tuner: Reuters Dataset\n",
    "\n",
    "Código base: Santiago Hernández"
   ]
  },
  {
   "cell_type": "markdown",
   "metadata": {},
   "source": [
    "## Conjunto de datos"
   ]
  },
  {
   "cell_type": "markdown",
   "metadata": {},
   "source": [
    "Este es un conjunto de datos de 11.228 noticias de Reuters, etiquetadas en 46 temas.\n",
    "\n",
    "Esto fue originalmente generado por el análisis y preprocesamiento del clásico conjunto de datos de Reuters-21578, pero el código de preprocesamiento ya no está empaquetado con Keras. \n",
    "\n",
    "Cada noticia está codificado como una lista de índices de palabras (números enteros). Para mayor comodidad, las palabras se indexan por la frecuencia general en el conjunto de datos, de modo que, por ejemplo, el número entero \"3\" codifica la tercera palabra más frecuente en los datos. Esto permite realizar operaciones de filtrado rápido como: \"considerar sólo las 10.000 palabras más comunes, pero eliminar las 20 palabras más comunes\"."
   ]
  },
  {
   "cell_type": "markdown",
   "metadata": {},
   "source": [
    "## 1. Cargando el conjunto de datos"
   ]
  },
  {
   "cell_type": "code",
   "execution_count": 14,
   "metadata": {},
   "outputs": [],
   "source": [
    "from tensorflow.keras.datasets import reuters"
   ]
  },
  {
   "cell_type": "code",
   "execution_count": 15,
   "metadata": {},
   "outputs": [],
   "source": [
    "(train_data, train_labels), (test_data, test_labels) = reuters.load_data(num_words=10000)"
   ]
  },
  {
   "cell_type": "markdown",
   "metadata": {},
   "source": [
    "## Preprocesamiento del conjunto de datos"
   ]
  },
  {
   "cell_type": "markdown",
   "metadata": {},
   "source": [
    "A pesar de que ya tenemos codificadas las reseñas para que esten representadas por valores numéricos en lugar de por cadenas de texto, existen algunos factores que no permiten que sean conjuntos de datos apropiados para proporcionarle a una red neuronal artifical."
   ]
  },
  {
   "cell_type": "code",
   "execution_count": 16,
   "metadata": {},
   "outputs": [],
   "source": [
    "import numpy as np\n",
    "\n",
    "def vectorize(seqs, dim=10000):\n",
    "    results = np.zeros((len(seqs), dim))\n",
    "    for i, seq in enumerate(seqs):\n",
    "        results[i, seq] = 1.\n",
    "    return results"
   ]
  },
  {
   "cell_type": "markdown",
   "metadata": {},
   "source": [
    "Vectorizamos tanto el conjunto de datos de entrenamiento, como el conjunto de datos de pruebas."
   ]
  },
  {
   "cell_type": "code",
   "execution_count": 17,
   "metadata": {},
   "outputs": [],
   "source": [
    "# Vectorizamos el conjunto de datos de entrenamiento y el de pruebas\n",
    "X_train = vectorize(train_data, 10000)\n",
    "X_test = vectorize(test_data, 10000)"
   ]
  },
  {
   "cell_type": "code",
   "execution_count": 18,
   "metadata": {},
   "outputs": [
    {
     "name": "stdout",
     "output_type": "stream",
     "text": [
      "Valores originales:\t [1, 2, 2, 8, 43, 10, 447, 5, 25, 207, 270, 5, 3095, 111, 16]\n",
      "Valores vectorizados:\t [0. 1. 1. 0. 1. 1. 1. 1. 1. 1. 1. 1. 1. 0. 0.]\n"
     ]
    }
   ],
   "source": [
    "# Cada una de las reseñas se corresponde con un vector formado por 1s y 0s\n",
    "print(\"Valores originales:\\t\", train_data[0][:15])\n",
    "print(\"Valores vectorizados:\\t\", X_train[0][:15])"
   ]
  },
  {
   "cell_type": "code",
   "execution_count": 19,
   "metadata": {},
   "outputs": [],
   "source": [
    "# Transformamos las etiquetas de salida en vectores\n",
    "from tensorflow.keras.utils import to_categorical\n",
    "\n",
    "Y_train = to_categorical(train_labels)\n",
    "Y_test = to_categorical(test_labels)"
   ]
  },
  {
   "cell_type": "markdown",
   "metadata": {},
   "source": [
    "## División del conjunto de datos "
   ]
  },
  {
   "cell_type": "code",
   "execution_count": 20,
   "metadata": {},
   "outputs": [],
   "source": [
    "from sklearn.model_selection import train_test_split\n",
    "\n",
    "X_test, X_val, Y_test, Y_val = train_test_split(X_test, Y_test, test_size=0.5)"
   ]
  },
  {
   "cell_type": "code",
   "execution_count": 21,
   "metadata": {},
   "outputs": [
    {
     "name": "stdout",
     "output_type": "stream",
     "text": [
      "Longitud subconjunto de entrenamiento:  8982\n",
      "Longitud subconjunto de validación:  1123\n",
      "Longitud subconjunto de pruebas:  1123\n"
     ]
    }
   ],
   "source": [
    "print(\"Longitud subconjunto de entrenamiento: \", len(X_train))\n",
    "print(\"Longitud subconjunto de validación: \", len(X_val))\n",
    "print(\"Longitud subconjunto de pruebas: \", len(X_test))"
   ]
  },
  {
   "cell_type": "code",
   "execution_count": 22,
   "metadata": {},
   "outputs": [
    {
     "data": {
      "text/plain": [
       "(10000,)"
      ]
     },
     "execution_count": 22,
     "metadata": {},
     "output_type": "execute_result"
    }
   ],
   "source": [
    "X_test[0].shape"
   ]
  },
  {
   "cell_type": "markdown",
   "metadata": {},
   "source": [
    "## Construcción de la red neuronal artificial"
   ]
  },
  {
   "cell_type": "markdown",
   "metadata": {},
   "source": [
    "### Función para la realización del tuning"
   ]
  },
  {
   "cell_type": "code",
   "execution_count": 23,
   "metadata": {},
   "outputs": [],
   "source": [
    "from tensorflow import keras\n",
    "from tensorflow.keras import models\n",
    "from tensorflow.keras import layers\n",
    "import keras_tuner as kt"
   ]
  },
  {
   "cell_type": "markdown",
   "metadata": {},
   "source": [
    "# TP5 - En la siguiente celda complete según se le indica en comentarios"
   ]
  },
  {
   "cell_type": "code",
   "execution_count": 25,
   "metadata": {},
   "outputs": [],
   "source": [
    "# https://keras.io/api/keras_tuner/hyperparameters/\n",
    "\n",
    "def model_builder(hp):\n",
    "    \n",
    "    # Defina un modelo secuencial\n",
    "    model = keras.Sequential()\n",
    "\n",
    "    \n",
    "    # Tuning del número de neuronas de las hidden layer\n",
    "    # Entre 16 y 128, en steps de 16\n",
    "    hp_units = hp.Int('units', min_value = 16, max_value = 128, step = 16)\n",
    " \n",
    "\n",
    "    # Tuning del número de capas\n",
    "    # Entre 1 y 5, con steps de 2\n",
    "    hp_layers = hp.Int('layers', min_value = 1, max_value = 5, step = 2)\n",
    "    \n",
    "    \n",
    "    # Input layer\n",
    "    model.add(layers.Dense(units=128, activation='relu', input_shape=(10000,)))\n",
    "    \n",
    "    # Hidden layers \n",
    "    for i in range(hp_layers):\n",
    "        # Añadimos la hidden layer\n",
    "        model.add(layers.Dense(units=hp_units, activation='relu'))\n",
    "        \n",
    "    # Output layer\n",
    "    model.add(layers.Dense(46, activation='softmax'))\n",
    "    \n",
    "    # Varios learning rate, valores [0.01, 0.001, 0.0001]\n",
    "    hp_learning_rate = hp.Choice('learning_rate', values=[1e-2, 1e-3, 1e-4])\n",
    "    \n",
    "    \n",
    "    # Completar el model.compile\n",
    "    # el optimizador es keras.optimizers.Adam, variando los diferentes learning rate definidos\n",
    "    # de loss usar 'categorical_crossentropy'\n",
    "    # de métrica usar \"accuracy\"    \n",
    "    model.compile(\n",
    "        optimizer=keras.optimizers.Adam(learning_rate = hp_learning_rate),\n",
    "        loss=keras.losses.CategoricalCrossentropy(from_logits=True),\n",
    "        metrics=['accuracy']\n",
    "    )\n",
    "    \n",
    "    \n",
    "    return model"
   ]
  },
  {
   "cell_type": "code",
   "execution_count": 26,
   "metadata": {},
   "outputs": [
    {
     "name": "stderr",
     "output_type": "stream",
     "text": [
      "2021-11-05 23:48:06.800194: I tensorflow/core/platform/cpu_feature_guard.cc:142] This TensorFlow binary is optimized with oneAPI Deep Neural Network Library (oneDNN) to use the following CPU instructions in performance-critical operations:  AVX2 FMA\n",
      "To enable them in other operations, rebuild TensorFlow with the appropriate compiler flags.\n"
     ]
    }
   ],
   "source": [
    "tuner = kt.Hyperband(\n",
    "    model_builder,\n",
    "    objective= 'val_accuracy',\n",
    "    max_epochs=10,\n",
    "    factor=3,\n",
    "    directory='hp_dir',\n",
    "    project_name='ruters_dataset'\n",
    ")"
   ]
  },
  {
   "cell_type": "code",
   "execution_count": 27,
   "metadata": {},
   "outputs": [],
   "source": [
    "# Creamos una función de callback que limpie el output\n",
    "import IPython\n",
    "import tensorflow as tf\n",
    "\n",
    "class ClearTrainingOutput(tf.keras.callbacks.Callback):\n",
    "    def on_train_end(*args, **kwargs):\n",
    "        IPython.display.clear_output(wait = True)"
   ]
  },
  {
   "cell_type": "code",
   "execution_count": 28,
   "metadata": {
    "scrolled": true
   },
   "outputs": [
    {
     "name": "stdout",
     "output_type": "stream",
     "text": [
      "Trial 30 Complete [00h 00m 16s]\n",
      "val_accuracy: 0.7943009734153748\n",
      "\n",
      "Best val_accuracy So Far: 0.8005343079566956\n",
      "Total elapsed time: 00h 03m 21s\n",
      "INFO:tensorflow:Oracle triggered exit\n"
     ]
    }
   ],
   "source": [
    "# Ejecución del proceso de tuning\n",
    "tuner.search(\n",
    "    X_train, \n",
    "    Y_train,\n",
    "    epochs=10,\n",
    "    validation_data=(X_val, Y_val),\n",
    "    callbacks=[ClearTrainingOutput()]\n",
    ")"
   ]
  },
  {
   "cell_type": "code",
   "execution_count": 35,
   "metadata": {},
   "outputs": [
    {
     "name": "stdout",
     "output_type": "stream",
     "text": [
      "Units: 80\n",
      "Layers: 3\n",
      "Learning rate: 0.001\n"
     ]
    }
   ],
   "source": [
    "# Obtención de los hiperparámetros óptimos\n",
    "best_hps = tuner.get_best_hyperparameters(num_trials=1)[0]\n",
    "\n",
    "print(\"Units:\", best_hps.get('units'))\n",
    "print(\"Layers:\", best_hps.get('layers'))\n",
    "print(\"Learning rate:\", best_hps.get('learning_rate'))"
   ]
  },
  {
   "cell_type": "code",
   "execution_count": 30,
   "metadata": {},
   "outputs": [
    {
     "name": "stdout",
     "output_type": "stream",
     "text": [
      "Epoch 1/20\n",
      "281/281 [==============================] - 2s 5ms/step - loss: 1.4670 - accuracy: 0.6681 - val_loss: 1.0270 - val_accuracy: 0.7605\n",
      "Epoch 2/20\n",
      "281/281 [==============================] - 1s 5ms/step - loss: 0.6373 - accuracy: 0.8518 - val_loss: 0.9377 - val_accuracy: 0.7934\n",
      "Epoch 3/20\n",
      "281/281 [==============================] - 1s 5ms/step - loss: 0.3279 - accuracy: 0.9212 - val_loss: 0.9867 - val_accuracy: 0.8014\n",
      "Epoch 4/20\n",
      "281/281 [==============================] - 1s 5ms/step - loss: 0.2211 - accuracy: 0.9393 - val_loss: 1.0512 - val_accuracy: 0.8005\n",
      "Epoch 5/20\n",
      "281/281 [==============================] - 1s 5ms/step - loss: 0.1683 - accuracy: 0.9489 - val_loss: 1.1738 - val_accuracy: 0.7934\n",
      "Epoch 6/20\n",
      "281/281 [==============================] - 1s 5ms/step - loss: 0.1458 - accuracy: 0.9518 - val_loss: 1.1644 - val_accuracy: 0.7979\n",
      "Epoch 7/20\n",
      "281/281 [==============================] - 1s 5ms/step - loss: 0.1263 - accuracy: 0.9532 - val_loss: 1.3570 - val_accuracy: 0.7747\n",
      "Epoch 8/20\n",
      "281/281 [==============================] - 1s 5ms/step - loss: 0.1155 - accuracy: 0.9541 - val_loss: 1.3287 - val_accuracy: 0.7996\n",
      "Epoch 9/20\n",
      "281/281 [==============================] - 1s 5ms/step - loss: 0.1051 - accuracy: 0.9534 - val_loss: 1.3200 - val_accuracy: 0.7881\n",
      "Epoch 10/20\n",
      "281/281 [==============================] - 1s 5ms/step - loss: 0.1079 - accuracy: 0.9548 - val_loss: 1.4025 - val_accuracy: 0.7934\n",
      "Epoch 11/20\n",
      "281/281 [==============================] - 1s 5ms/step - loss: 0.1011 - accuracy: 0.9548 - val_loss: 1.4784 - val_accuracy: 0.7916\n",
      "Epoch 12/20\n",
      "281/281 [==============================] - 1s 5ms/step - loss: 0.0963 - accuracy: 0.9544 - val_loss: 1.5065 - val_accuracy: 0.7952\n",
      "Epoch 13/20\n",
      "281/281 [==============================] - 1s 5ms/step - loss: 0.0922 - accuracy: 0.9565 - val_loss: 1.6510 - val_accuracy: 0.7872\n",
      "Epoch 14/20\n",
      "281/281 [==============================] - 1s 5ms/step - loss: 0.0933 - accuracy: 0.9536 - val_loss: 1.5570 - val_accuracy: 0.7872\n",
      "Epoch 15/20\n",
      "281/281 [==============================] - 1s 5ms/step - loss: 0.0895 - accuracy: 0.9566 - val_loss: 1.6464 - val_accuracy: 0.7952\n",
      "Epoch 16/20\n",
      "281/281 [==============================] - 1s 5ms/step - loss: 0.0845 - accuracy: 0.9568 - val_loss: 1.8209 - val_accuracy: 0.8032\n",
      "Epoch 17/20\n",
      "281/281 [==============================] - 1s 5ms/step - loss: 0.0823 - accuracy: 0.9566 - val_loss: 1.8430 - val_accuracy: 0.7836\n",
      "Epoch 18/20\n",
      "281/281 [==============================] - 1s 5ms/step - loss: 0.0840 - accuracy: 0.9572 - val_loss: 1.7263 - val_accuracy: 0.7890\n",
      "Epoch 19/20\n",
      "281/281 [==============================] - 1s 5ms/step - loss: 0.0818 - accuracy: 0.9585 - val_loss: 1.7589 - val_accuracy: 0.7916\n",
      "Epoch 20/20\n",
      "281/281 [==============================] - 1s 5ms/step - loss: 0.0794 - accuracy: 0.9548 - val_loss: 1.9322 - val_accuracy: 0.7854\n"
     ]
    }
   ],
   "source": [
    "model = tuner.hypermodel.build(best_hps)\n",
    "\n",
    "history = model.fit(\n",
    "    X_train,\n",
    "    Y_train,\n",
    "    epochs = 20,\n",
    "    validation_data = (X_val, Y_val)\n",
    ")"
   ]
  },
  {
   "cell_type": "code",
   "execution_count": 31,
   "metadata": {},
   "outputs": [
    {
     "data": {
      "image/png": "[encoded data removed]",
      "text/plain": [
       "<Figure size 720x432 with 1 Axes>"
      ]
     },
     "metadata": {
      "needs_background": "light"
     },
     "output_type": "display_data"
    }
   ],
   "source": [
    "import pandas as pd\n",
    "import matplotlib.pyplot as plt\n",
    "\n",
    "pd.DataFrame(history.history)[['loss', 'val_loss']].plot(figsize=(10, 6))\n",
    "plt.grid(True)\n",
    "plt.xlabel(\"epochs\")\n",
    "plt.ylabel(\"loss\")\n",
    "plt.show()"
   ]
  },
  {
   "cell_type": "code",
   "execution_count": 32,
   "metadata": {},
   "outputs": [
    {
     "data": {
      "image/png": "[encoded data removed]",
      "text/plain": [
       "<Figure size 720x432 with 1 Axes>"
      ]
     },
     "metadata": {
      "needs_background": "light"
     },
     "output_type": "display_data"
    }
   ],
   "source": [
    "import pandas as pd\n",
    "import matplotlib.pyplot as plt\n",
    "\n",
    "pd.DataFrame(history.history)[['accuracy', 'val_accuracy']].plot(figsize=(10, 6))\n",
    "plt.grid(True)\n",
    "plt.xlabel(\"epochs\")\n",
    "plt.ylabel(\"accuracy\")\n",
    "plt.show()"
   ]
  },
  {
   "cell_type": "code",
   "execution_count": 33,
   "metadata": {},
   "outputs": [
    {
     "name": "stdout",
     "output_type": "stream",
     "text": [
      "36/36 [==============================] - 0s 1ms/step - loss: 1.9920 - accuracy: 0.7649\n"
     ]
    },
    {
     "data": {
      "text/plain": [
       "[1.9919935464859009, 0.764915406703949]"
      ]
     },
     "execution_count": 33,
     "metadata": {},
     "output_type": "execute_result"
    }
   ],
   "source": [
    "model.evaluate(X_test, Y_test)"
   ]
  },
  {
   "cell_type": "code",
   "execution_count": 37,
   "metadata": {},
   "outputs": [
    {
     "data": {
      "text/plain": [
       "array([[0., 0., 0., ..., 0., 0., 0.],\n",
       "       [0., 0., 0., ..., 0., 0., 0.],\n",
       "       [0., 0., 0., ..., 0., 0., 0.],\n",
       "       ...,\n",
       "       [0., 0., 0., ..., 0., 0., 0.],\n",
       "       [0., 0., 0., ..., 0., 0., 0.],\n",
       "       [0., 0., 0., ..., 0., 0., 0.]], dtype=float32)"
      ]
     },
     "execution_count": 37,
     "metadata": {},
     "output_type": "execute_result"
    }
   ],
   "source": [
    "model.predict(X_test).round(0)"
   ]
  },
  {
   "cell_type": "markdown",
   "metadata": {},
   "source": [
    "# TP5 - En la siguiente celda de texto comente los resultados obtenidos del experimento"
   ]
  },
  {
   "cell_type": "markdown",
   "metadata": {},
   "source": [
    "Una vez realizado el tuning, se obtuvieron los siguientes valores:\n",
    "* Units: 80\n",
    "* Layers: 3\n",
    "* Learning rate: 0.001\n",
    "\n",
    "En los gráficos, podemos notar que el accuracy sube y el loss baja en los primeros epochs. Entre el epoch 5 u el 7, los cambios para loss son mínimos. Este mismo comportamiento se observa en el accuracy para el accuracy entre los epochs 4 y 5. Además, el loss llega a estar debajo de 0.09 y el accuracy por arriba de 0.95.\n",
    "\n",
    "Esto pareciera indicarnos que el modelo está aprendiendo bien, que puede dejarse de entrenar a partir del epoch 5 más o menos y que está realizando buenas predicciones.\n",
    "\n",
    "No obstante, cuando evaluamos el modelo, obtenemos un loss de 1.9920 y un accuracy de 0.7649, lo cuál no es tan deseable. Adicionalmente, notamos en los gráficos que el val_loss incrementa constantemente y que el val_loss se mantiene constante. Esto pareciera indicar que nuesto modelo está sobreajustado."
   ]
  }
 ],
 "metadata": {
  "kernelspec": {
   "display_name": "Python 3 (ipykernel)",
   "language": "python",
   "name": "python3"
  },
  "language_info": {
   "codemirror_mode": {
    "name": "ipython",
    "version": 3
   },
   "file_extension": ".py",
   "mimetype": "text/x-python",
   "name": "python",
   "nbconvert_exporter": "python",
   "pygments_lexer": "ipython3",
   "version": "3.9.6"
  }
 },
 "nbformat": 4,
 "nbformat_minor": 4
}
