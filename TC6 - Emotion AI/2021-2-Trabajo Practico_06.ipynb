{
 "cells": [
  {
   "cell_type": "markdown",
   "metadata": {
    "colab_type": "text",
    "id": "Y5zYLAE8LTvr"
   },
   "source": [
    "**Instituto Tecnológico de Costa Rica**\n",
    "\n",
    "**Escuela de Ingeniería en Computación**\n",
    "\n",
    "**Curso: Inteligencia Artificial**\n",
    "\n",
    "**Segundo Semestre 2021**\n",
    "\n",
    "**Profesor: Luis-Alexander Calvo-Valverde**\n",
    "\n",
    "**Trabajo Práctico:** 06\n",
    "\n",
    "**Datos de la entrega:** Lunes 22 de noviembre 2021, a más tardar a las 11:59 pm\n",
    "\n",
    "**Estudiantes:**\n",
    "- Eduardo Madrigal\n",
    "- Gabriel Vargas"
   ]
  },
  {
   "cell_type": "markdown",
   "metadata": {},
   "source": [
    "___\n",
    "\n",
    "# Indicaciones  (100 puntos)\n",
    "___"
   ]
  },
  {
   "cell_type": "markdown",
   "metadata": {},
   "source": [
    "1. Estudie el cuaderno con nombre: \"Emotion_AI\"\n",
    "1. Luego:\n",
    "    1. Se les ha invitado a un curso de Inteligencia Artificial de otra Universidad a explicar los conceptos y la aplicación contenidos en este cuaderno.\n",
    "    1. Prepare un video en que explica este cuaderno a los alumnos de este curso.\n",
    "    1. Puede partir que estos estudiantes tienen conocimiento generales de redes neuronales artificiales y tensorflow.\n",
    "    1. No olvide explicar conceptos fundamentales como detección de puntos faciales, ResNet, detección de expresión facial\n",
    "\n",
    "**NOTA:** En el video deben participar todas las personas integrantes del grupo y se esperaría que no dure menos de 20 minutos y no más 40 minutos.\n"
   ]
  },
  {
   "cell_type": "code",
   "execution_count": null,
   "metadata": {},
   "outputs": [],
   "source": []
  }
 ],
 "metadata": {
  "colab": {
   "collapsed_sections": [],
   "name": "Evaluación_01.ipynb",
   "provenance": []
  },
  "kernelspec": {
   "display_name": "Python 3 (ipykernel)",
   "language": "python",
   "name": "python3"
  },
  "language_info": {
   "codemirror_mode": {
    "name": "ipython",
    "version": 3
   },
   "file_extension": ".py",
   "mimetype": "text/x-python",
   "name": "python",
   "nbconvert_exporter": "python",
   "pygments_lexer": "ipython3",
   "version": "3.9.6"
  }
 },
 "nbformat": 4,
 "nbformat_minor": 1
}
