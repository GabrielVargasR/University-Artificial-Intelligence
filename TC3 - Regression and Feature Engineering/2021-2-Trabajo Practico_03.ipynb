{
 "cells": [
  {
   "cell_type": "markdown",
   "metadata": {
    "colab_type": "text",
    "id": "Y5zYLAE8LTvr"
   },
   "source": [
    "**Instituto Tecnológico de Costa Rica**\n",
    "\n",
    "**Escuela de Ingeniería en Computación**\n",
    "\n",
    "**Curso: Inteligencia Artificial**\n",
    "\n",
    "**Segundo Semestre 2021**\n",
    "\n",
    "**Profesor: Luis-Alexander Calvo-Valverde**\n",
    "\n",
    "**Trabajo Práctico:** 03\n",
    "\n",
    "**Datos de la entrega:** Domingo 03 de octubre 2021, a más tardar a las 11:59 pm\n",
    "\n",
    "**Estudiantes:**\n",
    "- Eduardo Madrigal Marín\n",
    "- Gabriel Vargas Rodríguez\n",
    "\n",
    "\n",
    "\n"
   ]
  },
  {
   "cell_type": "markdown",
   "metadata": {},
   "source": [
    "___\n",
    "\n",
    "# Parte 1  -  Ejercicio\n",
    "___"
   ]
  },
  {
   "cell_type": "markdown",
   "metadata": {},
   "source": [
    "# Introducción\n",
    "\n",
    "Considere:\n",
    "- Se le proporciona un conjunto de datos (Concrete_Data - USAR)-\n",
    "- El objetivo de esta parte es ver como el estudiante se enfrenta al proceso de pre-procesamiento, selección de atributos, predicción y evaluación.  Por eso es muy importante que documente en este cuaderno sus decisiones, eso se tomará muy en cuenta en la evaluación de su respuesta.\n",
    "- El atributo a predecir en regresión se denomina: **Cement**.\n",
    "- Debe comentar ampliamente su código\n",
    "- El profesor hará el rol del **cliente** por si tiene consultas sobre el conjunto de datos.\n"
   ]
  },
  {
   "cell_type": "markdown",
   "metadata": {},
   "source": [
    "### Sobre este dataset \n",
    "\n",
    "Name -- Data Type -- Measurement -- Description\n",
    "\n",
    "- id -- quantitative -- integer\n",
    "- Cement -- quantitative -- kg in a m3 mixture \n",
    "- Blast Furnace Slag -- quantitative -- kg in a m3 mixture \n",
    "- Fly Ash -- quantitative -- kg in a m3 mixture \n",
    "- Water -- quantitative -- kg in a m3 mixture \n",
    "- Superplasticizer -- quantitative -- kg in a m3 mixture \n",
    "- Coarse Aggregate -- quantitative -- kg in a m3 mixture \n",
    "- Fine Aggregate -- quantitative -- kg in a m3 mixture \n",
    "- Age -- quantitative -- Day (1~365) \n",
    "- Concrete compressive strength -- quantitative -- MPa \n"
   ]
  },
  {
   "cell_type": "markdown",
   "metadata": {
    "id": "EH4wZ1YRAqxb"
   },
   "source": [
    "### 1 (10 puntos)\n",
    "- Cargue el archivo.\n",
    "- Utilice las herramientas (gráficos, funciones que describen contenido o características de las variables, etc) que considere necesarias para analizar los atributos que tiene el dataset y ver si tiene valores faltantes, valores atípicos, etc.\n",
    "- Comente sus conclusiones sobre los atritubos.\n"
   ]
  },
  {
   "cell_type": "code",
   "execution_count": 1,
   "metadata": {},
   "outputs": [],
   "source": [
    "%matplotlib inline\n",
    "import pandas as pd\n",
    "import numpy as np\n",
    "import matplotlib.pyplot as plt"
   ]
  },
  {
   "cell_type": "code",
   "execution_count": 12,
   "metadata": {
    "colab": {
     "base_uri": "https://localhost:8080/",
     "height": 141
    },
    "id": "BA-EP3RPAqxW",
    "outputId": "c3e3e79f-0f8b-4c02-b13b-c9e2882d02d9"
   },
   "outputs": [
    {
     "name": "stdout",
     "output_type": "stream",
     "text": [
      "   id  cement   slag  flyash  water  superplasticizer  coarseaggregate  \\\n",
      "0   1   540.0    0.0     0.0  162.0            2500.0           1040.0   \n",
      "1   2   540.0    0.0     0.0  162.0               2.5           1055.0   \n",
      "2   3   332.5  142.5     0.0  228.0               0.0            932.0   \n",
      "3   4   332.5  142.5     0.0  228.0               0.0            932.0   \n",
      "4   5   198.6  132.4     0.0  192.0               0.0            978.4   \n",
      "\n",
      "   fineaggregate  age  csMPa  \n",
      "0          676.0   28  79.99  \n",
      "1          676.0   28  61.89  \n",
      "2          594.0  270  40.27  \n",
      "3          594.0  365  41.05  \n",
      "4          825.5  360  44.30  \n",
      "\n",
      "0    1\n",
      "1    2\n",
      "2    3\n",
      "3    4\n",
      "4    5\n",
      "Name: id, dtype: int64\n"
     ]
    }
   ],
   "source": [
    "# loads file as a DataFrame\n",
    "data = pd.read_csv('Concrete_Data - USAR.csv', header = 0, sep=';') # index_col = 0\n",
    "print(data.head(5), end = '\\n\\n') # shows first 5 registers"
   ]
  },
  {
   "cell_type": "markdown",
   "metadata": {
    "id": "9tNVtXGvAqxe"
   },
   "source": [
    "### 2 (5 puntos)\n",
    "- Se utilizará el modelo Train/Validation (70%)  y Test (30%). \n",
    "- Comente su decisión sobre los parámetros shuffle y random_state\n",
    "- Separe  los  conjuntos de datos (70-30) (X_trainVal, X_test, y_trainVal, y_test )\n",
    "- Muestre los primeros 5 registros de cada conjunto.\n"
   ]
  },
  {
   "cell_type": "code",
   "execution_count": null,
   "metadata": {
    "colab": {
     "base_uri": "https://localhost:8080/",
     "height": 52
    },
    "id": "Leqk_YXcAqxe",
    "outputId": "4e0009cf-6707-4bd8-95cb-d84fa3c3db81"
   },
   "outputs": [],
   "source": []
  },
  {
   "cell_type": "markdown",
   "metadata": {
    "id": "miPS0QToAqxi"
   },
   "source": [
    "### 3  (15 puntos)\n",
    "- Preprocese los atributos (Solo deje para más adelante escalar los datos).\n",
    "- Debe comentar en celdas del texto el por qué seleccionó las técnicas utilizadas."
   ]
  },
  {
   "cell_type": "code",
   "execution_count": null,
   "metadata": {
    "colab": {
     "base_uri": "https://localhost:8080/",
     "height": 265
    },
    "id": "aNmBM81JAqxj",
    "outputId": "c19f542b-ea68-4a39-b0b6-6a966b3e3749"
   },
   "outputs": [],
   "source": []
  },
  {
   "cell_type": "markdown",
   "metadata": {
    "id": "F2aijX35Aqxm"
   },
   "source": [
    "### 4 (10 puntos)\n",
    "- Realice selección de atributos.\n",
    "- Debe utilizar al menos una técnica para justificar su decisión (De entre los métodos: Filter, Wrapper, Embedded).\n",
    "- ¿Qué hará con el atributo denominado: \"Id\"?\n",
    "- Comente sus conclusiones.\n"
   ]
  },
  {
   "cell_type": "code",
   "execution_count": null,
   "metadata": {
    "colab": {
     "base_uri": "https://localhost:8080/",
     "height": 123
    },
    "id": "hI1ridvAAqxn",
    "outputId": "7610cd1f-86ed-407e-bc55-fe7cbb03f59b"
   },
   "outputs": [],
   "source": []
  },
  {
   "cell_type": "markdown",
   "metadata": {
    "id": "97T8JyJoAqxq"
   },
   "source": [
    "### 1.5  (5 puntos)\n",
    "- Escale los datos.\n",
    "- Comente qué técnica utilizó y por qué.\n",
    "- Guarde el archivo ya pre-procesado con el nombre: \"'Concrete_DataPROCESADO\"\n",
    "\n",
    "**Nota:** No olvide cómo manejará el \"bias\" (o agregar columna de unos, o si la implementación de los algoritmos que utilizará permiten indicarle que lo agregue).\n"
   ]
  },
  {
   "cell_type": "code",
   "execution_count": null,
   "metadata": {
    "colab": {
     "base_uri": "https://localhost:8080/",
     "height": 123
    },
    "id": "U7MXlIo7Aqxq",
    "outputId": "353bfc38-d68c-416d-ea56-4dac2c17dc2c"
   },
   "outputs": [],
   "source": []
  },
  {
   "cell_type": "markdown",
   "metadata": {
    "id": "7luDf08KAqxt"
   },
   "source": [
    "### 1.6 (20 puntos)\n",
    "Presente e implemente un diseño experimental que incluya:\n",
    "- Cuatro algoritmos diferentes:\n",
    "    - Uno será la regresión lineal de mínimos cuadrados sin regularización (OLSR).\n",
    "    - Otro el método de regresión RIDGE.\n",
    "    - Usted eligirá dos métodos más de regresión, que no sean de los vistos en clase. Si tiene dudas de si puede o no usar algún método, puede consultar al profesor.\n",
    "    - Como el OLSR no tiene hiperparámetros, use todo el train/validation para entrenar. Para los otros dos métodos, debe usar ten-cross-validation para seleccionar **al menos un hiperparámetro**.\n",
    "    - Debe registrar las métricas RMSE y R2. Usted decide cuál de estas dos métricas usa para selecionar la mejor configuración (Justifique su selección). Recuerde aspectos como analizar promedios y desviaciones estándar.\n",
    "    \n",
    "**Nota:** Para cada uno de los dos algoritmos seleccionados (no el OLSR) explique los parámetros que recibe. \n",
    "    "
   ]
  },
  {
   "cell_type": "code",
   "execution_count": null,
   "metadata": {
    "colab": {
     "base_uri": "https://localhost:8080/",
     "height": 264
    },
    "id": "30z4eKbKAqxt",
    "outputId": "ca0fbf6a-0f32-4bd5-b75d-dec4a5831953"
   },
   "outputs": [],
   "source": []
  },
  {
   "cell_type": "markdown",
   "metadata": {
    "id": "hRSit4mpAqxv"
   },
   "source": [
    "### 1.7 (15 puntos)\n",
    "\n",
    "- Por medio de una tabla u otro método idóneo que Usted determine, resuma todos los resultados obtenidos (o la mayoría).\n",
    "- Grafique comparativamente los valores del real versus el predicho (test), de cada uno de los métodos utilizados.  \n",
    "- Si tuviera que recomendar un método a usar con este dataset ¿cuál sería de los comparados y por qué?\n",
    "- Qué conclusiones finales saca sobre los métodos usados como predictores."
   ]
  },
  {
   "cell_type": "code",
   "execution_count": null,
   "metadata": {
    "colab": {
     "base_uri": "https://localhost:8080/",
     "height": 281
    },
    "id": "0bn7ujBQAqxw",
    "outputId": "9b4cccb3-5be5-465c-ed78-9580132bdb5d"
   },
   "outputs": [],
   "source": []
  },
  {
   "cell_type": "markdown",
   "metadata": {},
   "source": [
    "___\n",
    "\n",
    "# Parte 2  -  Temas por grupo (20 puntos)\n",
    "___"
   ]
  },
  {
   "cell_type": "markdown",
   "metadata": {},
   "source": [
    "Considere lo siguiente:\n",
    "1. Revise en el archivo PDF: \"Temas por grupo\", qué cuadernos jupyter le corresponden a su grupo.\n",
    "1. Estudie los cuadernos asignados.\n",
    "1. Prepare un único cuaderno de jupyter (comentando con celdas de texto en español), en que resume y explica las técnicas asignadas. \n",
    "1. Prepare un video para una posible presentación de sus temas en clase, no debe durar más 12 minutos en la presentación de los temas asignados (Considere que el material preparado será compartido con sus compañer(a/o)s del curso y por tanto se espera que se esmere en su elaboración y clara explicación -- por favor -- ). "
   ]
  },
  {
   "cell_type": "code",
   "execution_count": null,
   "metadata": {},
   "outputs": [],
   "source": [
    "# 1. Constant features\n",
    "# 2. Quasi-constant features\n"
   ]
  }
 ],
 "metadata": {
  "colab": {
   "collapsed_sections": [],
   "name": "Evaluación_01.ipynb",
   "provenance": []
  },
  "kernelspec": {
   "display_name": "Python 3 (ipykernel)",
   "language": "python",
   "name": "python3"
  },
  "language_info": {
   "codemirror_mode": {
    "name": "ipython",
    "version": 3
   },
   "file_extension": ".py",
   "mimetype": "text/x-python",
   "name": "python",
   "nbconvert_exporter": "python",
   "pygments_lexer": "ipython3",
   "version": "3.9.6"
  }
 },
 "nbformat": 4,
 "nbformat_minor": 1
}
