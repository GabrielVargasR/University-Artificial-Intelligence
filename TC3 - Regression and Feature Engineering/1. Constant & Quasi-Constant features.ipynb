{
 "cells": [
  {
   "cell_type": "markdown",
   "id": "b47b27c4",
   "metadata": {},
   "source": [
    "# Features Constantes y Quasi-Constantes\n",
    "\n",
    "En el presente cuaderno se explora cómo manejar features constantes y quasi-constantes en un data set. Dicho manejo se realiza mediante el uso de herramientas de Scikit-learn, así como manualmente."
   ]
  },
  {
   "cell_type": "markdown",
   "id": "aeda7b51",
   "metadata": {},
   "source": [
    "## Features constantes\n",
    "\n",
    "Estos son aquellos features cuyo valor no cambia. Puede visualizarse como una columna que tiene siempre el mismo valor para todas sus filas. Evidentemente, un feature de este tipo no brinda información valiosa para realizar predicciones con un modelo de machine learning, razón por la cual se eliminan y no se toman en cuenta.\n",
    "\n",
    "A continuación, se muestra cómo identificar y eliminar features constantes utilizando VarianceThreshold de Scikit-learn y utilizando código normal."
   ]
  },
  {
   "cell_type": "code",
   "execution_count": null,
   "id": "42505e74",
   "metadata": {},
   "outputs": [],
   "source": []
  }
 ],
 "metadata": {
  "kernelspec": {
   "display_name": "Python 3 (ipykernel)",
   "language": "python",
   "name": "python3"
  },
  "language_info": {
   "codemirror_mode": {
    "name": "ipython",
    "version": 3
   },
   "file_extension": ".py",
   "mimetype": "text/x-python",
   "name": "python",
   "nbconvert_exporter": "python",
   "pygments_lexer": "ipython3",
   "version": "3.9.6"
  }
 },
 "nbformat": 4,
 "nbformat_minor": 5
}
