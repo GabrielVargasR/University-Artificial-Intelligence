{
 "cells": [
  {
   "cell_type": "markdown",
   "metadata": {
    "colab_type": "text",
    "id": "Y5zYLAE8LTvr"
   },
   "source": [
    "**Instituto Tecnológico de Costa Rica**\n",
    "\n",
    "**Escuela de Ingeniería en Computación**\n",
    "\n",
    "**Curso: Inteligencia Artificial**\n",
    "\n",
    "**Segundo Semestre 2021**\n",
    "\n",
    "**Profesor: Luis-Alexander Calvo-Valverde**\n",
    "\n",
    "**Trabajo Práctico:** 02\n",
    "\n",
    "**Datos de la entrega:** Domingo 12 de setiembre 2021, a más tardar a las 11:59 pm\n",
    "\n",
    "**Estudiantes:**\n",
    "- Eduardo Madrigal\n",
    "- Gabriel Vargas\n",
    "\n",
    "\n",
    "\n",
    "\n"
   ]
  },
  {
   "cell_type": "markdown",
   "metadata": {},
   "source": [
    "# Parte 1.  Series temporales y graficación  (52 puntos)\n",
    "\n",
    "1. Se adjunta un archivo en formato PDF titulado: Lectura_Caps_1-6_15. Estudie los capítulos 1 a 6 (los tres primeros capítulos ya los había estudiado en otro trabajo). Se adjutan los archivos .csv requeridos para probar el código.\n",
    "1. Luego, utilizando el archivo 'daily-max-temperatures.csv' realice la presente sección.\n",
    "1. Complete en celdas de código y/o texto según convenga. \n",
    "1. Documente bien su código.\n"
   ]
  },
  {
   "cell_type": "code",
   "execution_count": 2,
   "metadata": {},
   "outputs": [],
   "source": [
    "%matplotlib inline\n",
    "import pandas as pd\n",
    "import numpy as np\n",
    "import matplotlib.pyplot as plt\n"
   ]
  },
  {
   "cell_type": "markdown",
   "metadata": {
    "id": "EH4wZ1YRAqxb"
   },
   "source": [
    "### 1.1\n",
    "- Cargue el archivo.\n",
    "- Muestre los cinco primeros registros.\n",
    "- Muestre qué tipo de datos es la variable  series"
   ]
  },
  {
   "cell_type": "code",
   "execution_count": 7,
   "metadata": {
    "colab": {
     "base_uri": "https://localhost:8080/",
     "height": 141
    },
    "id": "BA-EP3RPAqxW",
    "outputId": "c3e3e79f-0f8b-4c02-b13b-c9e2882d02d9"
   },
   "outputs": [
    {
     "name": "stdout",
     "output_type": "stream",
     "text": [
      "Date\n",
      "1981-01-01    38.1\n",
      "1981-01-02    32.4\n",
      "1981-01-03    34.5\n",
      "1981-01-04    20.7\n",
      "1981-01-05    21.5\n",
      "Name: Temperature, dtype: float64\n",
      "\n",
      "<class 'pandas.core.series.Series'>\n"
     ]
    }
   ],
   "source": [
    "# loads file as a pd Series, not a DataFrame\n",
    "series = pd.read_csv('data/daily-max-temperatures.csv', header = 0, parse_dates = [0], index_col = 0,\n",
    "                    squeeze = True)\n",
    "print(series.head(5), end = '\\n\\n') # shows first 5 registers\n",
    "print(type(series)) # shows data type for series"
   ]
  },
  {
   "cell_type": "markdown",
   "metadata": {
    "id": "9tNVtXGvAqxe"
   },
   "source": [
    "### 1.2\n",
    "- Muestra el promedio y la desviación estándar de los datos"
   ]
  },
  {
   "cell_type": "code",
   "execution_count": 9,
   "metadata": {
    "colab": {
     "base_uri": "https://localhost:8080/",
     "height": 52
    },
    "id": "Leqk_YXcAqxe",
    "outputId": "4e0009cf-6707-4bd8-95cb-d84fa3c3db81"
   },
   "outputs": [
    {
     "name": "stdout",
     "output_type": "stream",
     "text": [
      "Promedio:  20.009150684931505\n",
      "Desviación estándar:  6.108353282275072\n"
     ]
    }
   ],
   "source": [
    "print('Promedio: ', series.mean())\n",
    "print('Desviación estándar: ', series.std())"
   ]
  },
  {
   "cell_type": "markdown",
   "metadata": {
    "id": "miPS0QToAqxi"
   },
   "source": [
    "### 1.3\n",
    "- Muestre el promedio para cada uno de los meses del año. Es decir, el promedio para todos los eneros, luego el promedio para todos los febreros, y así sucevivamente."
   ]
  },
  {
   "cell_type": "code",
   "execution_count": 57,
   "metadata": {
    "colab": {
     "base_uri": "https://localhost:8080/",
     "height": 265
    },
    "id": "aNmBM81JAqxj",
    "outputId": "c19f542b-ea68-4a39-b0b6-6a966b3e3749"
   },
   "outputs": [
    {
     "name": "stdout",
     "output_type": "stream",
     "text": [
      "month  mean temperature\n",
      "  Jan         25.602581\n",
      "  Feb         26.151064\n",
      "  Mar         24.220968\n",
      "  Apr         20.889333\n",
      "  May         17.447419\n",
      "  Jun         14.240333\n",
      "  Jul         13.651935\n",
      "  Aug         15.296774\n",
      "  Sep         17.246667\n",
      "  Oct         19.719355\n",
      "  Nov         22.222667\n",
      "  Dec         23.824675\n"
     ]
    }
   ],
   "source": [
    "from pandas import DataFrame\n",
    "from calendar import month_abbr # solo para display de los resultados\n",
    "\n",
    "# creats data frame to facilitate data querying\n",
    "data_frame = DataFrame()\n",
    "series_len = len(series)\n",
    "data_frame['month'] = [series.index[i].month for i in range (series_len)] # adds month to data frame\n",
    "data_frame['temperature'] = [series[i] for i in range (series_len)] # adds temperature to data frame\n",
    "\n",
    "# query dataframe, grouping by month and calculating mean temperature\n",
    "df = data_frame.groupby(['month']).mean().reset_index()\n",
    "df.rename(columns={'temperature':'mean temperature'}, inplace=True) # renames column for display purposes\n",
    "df['month'] = df['month'].apply(lambda i : month_abbr[i]) # changes int to month name for display purposes\n",
    "print(df.to_string(index=False)) # prints the info without indexes"
   ]
  },
  {
   "cell_type": "markdown",
   "metadata": {
    "id": "F2aijX35Aqxm"
   },
   "source": [
    "### 1.4 \n",
    "- Utilizando la técnica de Lag Features, cree un DataFrame con los valores y un Lag=3"
   ]
  },
  {
   "cell_type": "code",
   "execution_count": 70,
   "metadata": {},
   "outputs": [
    {
     "name": "stdout",
     "output_type": "stream",
     "text": [
      "       t-2   t-1     t   t+1\n",
      "0      NaN   NaN   NaN  38.1\n",
      "1      NaN   NaN  38.1  32.4\n",
      "2      NaN  38.1  32.4  34.5\n",
      "3     38.1  32.4  34.5  20.7\n",
      "4     32.4  34.5  20.7  21.5\n",
      "...    ...   ...   ...   ...\n",
      "3645  23.3  29.3  20.9  37.6\n",
      "3646  29.3  20.9  37.6  23.2\n",
      "3647  20.9  37.6  23.2  25.1\n",
      "3648  37.6  23.2  25.1  24.4\n",
      "3649  23.2  25.1  24.4  24.6\n",
      "\n",
      "[3650 rows x 4 columns]\n"
     ]
    }
   ],
   "source": [
    "from pandas import concat\n",
    "\n",
    "# creates a dataframe using only the temperature values\n",
    "# datetime values are not used, yet the time order is maintained\n",
    "temperatures = DataFrame(series.values)\n",
    "\n",
    "# Lag = 3 seen because the last 3 values are used to predict the next one\n",
    "temperatures = concat([temperatures.shift(3), temperatures.shift(2), temperatures.shift(1), temperatures], axis=1)\n",
    "temperatures.columns = ['t-2', 't-1', 't', 't+1'] # rename columns for clarity\n",
    "print(temperatures)"
   ]
  },
  {
   "cell_type": "markdown",
   "metadata": {
    "id": "97T8JyJoAqxq"
   },
   "source": [
    "### 1.5\n",
    "- Utilizando la técnica de rolling window, cree un DataFrame con los valores, y un ancho de ventana de 2. Tenga las columnas: 'mínimo','media','máximo','t+1'"
   ]
  },
  {
   "cell_type": "code",
   "execution_count": 82,
   "metadata": {
    "colab": {
     "base_uri": "https://localhost:8080/",
     "height": 123
    },
    "id": "U7MXlIo7Aqxq",
    "outputId": "353bfc38-d68c-416d-ea56-4dac2c17dc2c"
   },
   "outputs": [
    {
     "name": "stdout",
     "output_type": "stream",
     "text": [
      "       min   mean   max   t+1\n",
      "0      NaN    NaN   NaN  38.1\n",
      "1      NaN    NaN   NaN  32.4\n",
      "2     32.4  35.25  38.1  34.5\n",
      "3     32.4  33.45  34.5  20.7\n",
      "4     20.7  27.60  34.5  21.5\n",
      "...    ...    ...   ...   ...\n",
      "3645  20.9  25.10  29.3  37.6\n",
      "3646  20.9  29.25  37.6  23.2\n",
      "3647  23.2  30.40  37.6  25.1\n",
      "3648  23.2  24.15  25.1  24.4\n",
      "3649  24.4  24.75  25.1  24.6\n",
      "\n",
      "[3650 rows x 4 columns]\n"
     ]
    }
   ],
   "source": [
    "# creates a dataframe using only the temperature values\n",
    "# datetime values are not used, yet the time order is maintained\n",
    "temperatures = DataFrame(series.values)\n",
    "\n",
    "window_width = 2\n",
    "shift_temps = temperatures.shift(window_width-1) # for t+1 values\n",
    "window = shift_temps.rolling(window = window_width) # window_width = 2\n",
    "\n",
    "# adds statistics and values to the dataframe\n",
    "# mean, min and max are calculated for t-1 and t (specified window)\n",
    "stats_temp = concat([window.min(), window.mean(), window.max(), temperatures], axis=1)  \n",
    "stats_temp.columns = ['min', 'mean', 'max', 't+1'] # column names for clarity\n",
    "\n",
    "print(stats_temp)"
   ]
  },
  {
   "cell_type": "markdown",
   "metadata": {
    "id": "7luDf08KAqxt"
   },
   "source": [
    "### 1.6\n",
    "- A la variable series, aplíquele la instrucción series.plot(). \n",
    "- ¿Qué puede decir del comportamiento de los datos según este gráfico?"
   ]
  },
  {
   "cell_type": "code",
   "execution_count": 84,
   "metadata": {
    "colab": {
     "base_uri": "https://localhost:8080/",
     "height": 264
    },
    "id": "30z4eKbKAqxt",
    "outputId": "ca0fbf6a-0f32-4bd5-b75d-dec4a5831953",
    "scrolled": true
   },
   "outputs": [
    {
     "data": {
      "image/png": "[encoded data removed]",
      "text/plain": [
       "<Figure size 432x288 with 1 Axes>"
      ]
     },
     "metadata": {
      "needs_background": "light"
     },
     "output_type": "display_data"
    }
   ],
   "source": [
    "series.plot()\n",
    "plt.show()"
   ]
  },
  {
   "cell_type": "markdown",
   "metadata": {},
   "source": [
    "- Pareciera existir un patrón de temporalidad (seasonality), donde las mayores temperaturas se dan a principio de año y de ahí comienzan a bajar hasta llegar a las más bajas a mediados de año. Pasado medio año, las temperaturas vuelven a comenzar a elevarse. Este patrón es constante.\n",
    "- También se puede resaltar que el gráfico es más denso entre los 20 y 30 grados, lo cual indica que la media de temperatura suele encontrarse por ahí."
   ]
  },
  {
   "cell_type": "markdown",
   "metadata": {
    "id": "hRSit4mpAqxv"
   },
   "source": [
    "### 1.7\n",
    "\n",
    "- Agrupe los datos y muestre un gráfico similar al de la seccion 6.4 de las lecturas (Stacked lines plots).  \n",
    "- ¿Puede hacer algún comentario del comportamiento anual de los datos?"
   ]
  },
  {
   "cell_type": "code",
   "execution_count": 96,
   "metadata": {
    "colab": {
     "base_uri": "https://localhost:8080/",
     "height": 281
    },
    "id": "0bn7ujBQAqxw",
    "outputId": "9b4cccb3-5be5-465c-ed78-9580132bdb5d"
   },
   "outputs": [
    {
     "data": {
      "image/png": "[encoded data removed]",
      "text/plain": [
       "<Figure size 432x288 with 10 Axes>"
      ]
     },
     "metadata": {
      "needs_background": "light"
     },
     "output_type": "display_data"
    }
   ],
   "source": [
    "from pandas import Grouper # as TimeGrouper is deprecated\n",
    "\n",
    "groups = series.groupby(Grouper(freq='A')) # groups data by year\n",
    "years = DataFrame() # data frame for divided data\n",
    "\n",
    "# values are placed in the dataframe, divided by year\n",
    "for name, group in groups:\n",
    "    years[name.year] = group.values\n",
    "    \n",
    "years.plot(subplots=True, legend=False)\n",
    "plt.show()"
   ]
  },
  {
   "cell_type": "markdown",
   "metadata": {},
   "source": [
    "- Cada año, las temperaturas son más bajas y constantes a mediados de año, entre los días 100-250 aproximadamente. \n",
    "- Las temperaturas más altas se dan en los primeros 100 días y los últimos 65 días (300-365). \n",
    "    - En estos rangos de principio y fin de año, las temperaturas también fluctúan más."
   ]
  },
  {
   "cell_type": "markdown",
   "metadata": {
    "id": "4T-6KIX9Aqxy"
   },
   "source": [
    "### 1.8\n",
    "- Muestre el histograma de la variable series. \n",
    "- ¿Qué conclusiones puede sacar del comportamiento de los datos?\n"
   ]
  },
  {
   "cell_type": "code",
   "execution_count": 97,
   "metadata": {
    "colab": {
     "base_uri": "https://localhost:8080/",
     "height": 316
    },
    "id": "2yKA2qZLj7bA",
    "outputId": "acca8466-2da0-41c3-ca0b-8ce53ae3d58f"
   },
   "outputs": [
    {
     "data": {
      "image/png": "[encoded data removed]",
      "text/plain": [
       "<Figure size 432x288 with 1 Axes>"
      ]
     },
     "metadata": {
      "needs_background": "light"
     },
     "output_type": "display_data"
    }
   ],
   "source": [
    "series.hist()\n",
    "plt.show()"
   ]
  },
  {
   "cell_type": "markdown",
   "metadata": {},
   "source": [
    "- La temperatura no parece seguir una distribución gaussiana, pues no es uniforme y tiene muchos más valores a la derecha de la media. \n",
    "    - La distribución parece ser asimétrica\n",
    "- Podemos ver que la media de la temperatura se encuentra entre 15 y 20 grados"
   ]
  },
  {
   "cell_type": "markdown",
   "metadata": {
    "id": "tiMNXl0gAqx2"
   },
   "source": [
    "### 1.9\n",
    "- Muestre el gráfico de densidad de la variable series. \n",
    "- ¿Qué conclusiones puede sacar del comportamiento de los datos?\n"
   ]
  },
  {
   "cell_type": "code",
   "execution_count": 100,
   "metadata": {
    "colab": {
     "base_uri": "https://localhost:8080/",
     "height": 264
    },
    "id": "pzC2ExG8Aqx2",
    "outputId": "cf976c33-4539-4eb5-d125-457d813b9c1a"
   },
   "outputs": [
    {
     "data": {
      "image/png": "[encoded data removed]",
      "text/plain": [
       "<Figure size 432x288 with 1 Axes>"
      ]
     },
     "metadata": {
      "needs_background": "light"
     },
     "output_type": "display_data"
    }
   ],
   "source": [
    "series.plot(kind = 'kde')\n",
    "plt.show()"
   ]
  },
  {
   "cell_type": "markdown",
   "metadata": {},
   "source": [
    "- Los valores no parecen seguir una distribución gaussiana, pues se ve muy pu"
   ]
  },
  {
   "cell_type": "markdown",
   "metadata": {},
   "source": [
    "### 1.10\n",
    "- Agrupe los datos de la variable serie de manera Anual, y muestre los Boxplot de cada año. \n",
    "1. ¿Cómo se interpreta un gráfico Boxplot?\n",
    "1. ¿Qué conclusiones puede sacar del comportamiento de los datos?"
   ]
  },
  {
   "cell_type": "code",
   "execution_count": null,
   "metadata": {
    "colab": {
     "base_uri": "https://localhost:8080/",
     "height": 592
    },
    "id": "Vo9iEmKkAqx5",
    "outputId": "a417f4ba-d82a-479a-c509-14342777f174"
   },
   "outputs": [],
   "source": []
  },
  {
   "cell_type": "markdown",
   "metadata": {
    "id": "HnwFdPx1Aqx7"
   },
   "source": [
    "### 1.11\n",
    "- Agrupe los datos de la variable serie de manera Anual, y muestre el Heat Map por año. \n",
    "1. ¿Cómo se interpreta un gráfico Heat Map?\n",
    "1. ¿Qué conclusiones puede sacar del comportamiento de los datos?\n"
   ]
  },
  {
   "cell_type": "code",
   "execution_count": null,
   "metadata": {
    "colab": {
     "base_uri": "https://localhost:8080/",
     "height": 323
    },
    "id": "5cUNSvbhAqx8",
    "outputId": "2b63bca3-14ed-405a-80f5-4b5f1e85862f"
   },
   "outputs": [],
   "source": []
  },
  {
   "cell_type": "markdown",
   "metadata": {
    "id": "sNrgrlg3Aqx_"
   },
   "source": [
    "### 1.12\n",
    "- Muestre el Lag Scatter plot de la variable series. \n",
    "1. ¿Cómo se interpreta un Lag Scatter plot?\n",
    "1. ¿Qué conclusiones puede sacar del comportamiento de los datos?\n"
   ]
  },
  {
   "cell_type": "code",
   "execution_count": null,
   "metadata": {
    "colab": {
     "base_uri": "https://localhost:8080/",
     "height": 278
    },
    "id": "ChyCxl5YAqyA",
    "outputId": "d56212c1-16cb-4f02-d669-c944483ec9ef"
   },
   "outputs": [],
   "source": []
  },
  {
   "cell_type": "markdown",
   "metadata": {
    "id": "l1zWEbaqAqyC"
   },
   "source": [
    "### 1.13\n",
    "- Muestre el gráfico Autocorrelación de la variable series. \n",
    "1. ¿Cómo se interpreta este tipo de gráficos?\n",
    "1. ¿Qué conclusiones puede sacar del comportamiento de los datos?\n"
   ]
  },
  {
   "cell_type": "code",
   "execution_count": null,
   "metadata": {
    "colab": {
     "base_uri": "https://localhost:8080/",
     "height": 283
    },
    "id": "NfMFaPfEAqyC",
    "outputId": "e0f03803-bbc9-403e-dfdc-1e84655832af"
   },
   "outputs": [],
   "source": []
  },
  {
   "cell_type": "markdown",
   "metadata": {
    "id": "Qsid8DME3hDu"
   },
   "source": [
    "# Parte 2.  Diferenciación  (20 puntos)\n",
    "\n",
    "1. Se adjunta un archivo en formato PDF titulado: Lectura_Caps_1-6_15. Estudie el capítulo 15. Se adjutan los archivos .csv requeridos para probar el código.\n",
    "1. Luego, utilizando el archivo 'yearly-water-usage.csv' realice la presente sección.\n",
    "1. Complete en celdas de código y/o texto según convenga. \n",
    "1. Documente bien su código."
   ]
  },
  {
   "cell_type": "markdown",
   "metadata": {
    "id": "IE-Jp4rr3hDv"
   },
   "source": [
    "### 2.1\n",
    "- Cargue el archivo proporcionado y muestre los 4 primeros registros."
   ]
  },
  {
   "cell_type": "code",
   "execution_count": null,
   "metadata": {
    "colab": {
     "base_uri": "https://localhost:8080/",
     "height": 164
    },
    "id": "76kKzuhQ7pa9",
    "outputId": "2de79c66-5df4-46ea-e093-37ab1b87758e"
   },
   "outputs": [],
   "source": []
  },
  {
   "cell_type": "markdown",
   "metadata": {
    "id": "B4gG15-C3hDv"
   },
   "source": [
    "### 2.2\n",
    "\n",
    "- Aplique el Augmented Dickey-Fuller test, con una confianza estadística del 95% (por lo tanto un threshold del 0.05)"
   ]
  },
  {
   "cell_type": "code",
   "execution_count": null,
   "metadata": {
    "colab": {
     "base_uri": "https://localhost:8080/",
     "height": 90
    },
    "id": "kyueuSPw7zEv",
    "outputId": "726f3516-41f0-4a79-82a2-f17ce11dae60"
   },
   "outputs": [],
   "source": []
  },
  {
   "cell_type": "markdown",
   "metadata": {
    "id": "4KcVyjSR3hDw"
   },
   "source": [
    "### 2.3\n",
    "\n",
    "- Aplique la \"Diferenciación\" a la serie, y al resultado vuelva a aplicarle el Augmented Dickey-Fuller test, con una confianza estadística del 95% (por lo tanto un threshold del 0.05)"
   ]
  },
  {
   "cell_type": "code",
   "execution_count": null,
   "metadata": {
    "colab": {
     "base_uri": "https://localhost:8080/",
     "height": 90
    },
    "id": "BVlKGj4D74X9",
    "outputId": "1528179a-82f8-4f30-8a1c-9bf276c19dba"
   },
   "outputs": [],
   "source": []
  },
  {
   "cell_type": "markdown",
   "metadata": {
    "id": "iJJ1x_Wq3hDw"
   },
   "source": [
    "### 2.4\n",
    "\n",
    "- En un mismo gráfico de líneas, presente la serie original (en azul) y la serie diferenciada (en rojo)."
   ]
  },
  {
   "cell_type": "code",
   "execution_count": null,
   "metadata": {
    "colab": {
     "base_uri": "https://localhost:8080/",
     "height": 606
    },
    "id": "0Omw-Yng7-G4",
    "outputId": "a568bd5c-9607-4ddd-866a-c2a9f5d0457d"
   },
   "outputs": [],
   "source": []
  },
  {
   "cell_type": "markdown",
   "metadata": {
    "id": "18pYOthi3hDw"
   },
   "source": [
    "### 2.5\n",
    "\n",
    "- ¿Qué cambio nota de la serie antes de diferenciar a la serie diferenciada?\n"
   ]
  },
  {
   "cell_type": "code",
   "execution_count": null,
   "metadata": {},
   "outputs": [],
   "source": []
  },
  {
   "cell_type": "markdown",
   "metadata": {},
   "source": [
    "# Parte 3.  Regresión lineal y breve diseño experimental  (28 puntos)\n",
    "\n",
    "Se le suministra un archivo llamado datos_practica2.csv.  "
   ]
  },
  {
   "cell_type": "markdown",
   "metadata": {
    "colab_type": "text",
    "id": "jdtaAwa8XzNA"
   },
   "source": [
    "### 3.1\n",
    "- Cargue el archivo.\n",
    "- Muestre cuántas filas tiene el conjunto de datos.\n",
    "- Revise si la serie es o no estacionaria. Aplique el Augmented Dickey-Fuller test, con una confianza estadística del 95% (por lo tanto un threshold del 0.05). Y haga la diferenciación en caso de ser no estacionaria.\n"
   ]
  },
  {
   "cell_type": "code",
   "execution_count": null,
   "metadata": {},
   "outputs": [],
   "source": []
  },
  {
   "cell_type": "markdown",
   "metadata": {},
   "source": [
    "### 3.2\n",
    "- Utilizando la técnica de Lag Features, cree un DataFrame con los valores y un Lag=30\n",
    "- Utilice dropna() para borrar cualquier fila con NA\n",
    "- Muestre la primera fila.\n",
    "\n",
    "Se podrá ver algo así:\n",
    "\n",
    "    t-29  t-28  t-27  t-26  t-25  t-24  t-23  t-22  t-21  t-20  ...   t-8  \\\n",
    "30  38.1  32.4  34.5  20.7  21.5  23.1  29.7  36.6  36.1  20.6  ...  21.7   \n",
    "\n",
    "     t-7   t-6   t-5   t-4   t-3   t-2   t-1     t   t+1  \n",
    "30  22.9  26.2  36.5  41.8  21.5  19.2  25.0  28.9  23.2  \n",
    "\n",
    "[1 rows x 31 columns]"
   ]
  },
  {
   "cell_type": "code",
   "execution_count": null,
   "metadata": {},
   "outputs": [],
   "source": []
  },
  {
   "cell_type": "markdown",
   "metadata": {},
   "source": [
    "### 3.3\n",
    "- Divida entre X e y.\n",
    "- Escale X utilizando MinMaxScaler. \n",
    "- Agregue como primer columna el bias (llena de 1's).\n",
    "- Muestre los tres primeros registros."
   ]
  },
  {
   "cell_type": "code",
   "execution_count": null,
   "metadata": {},
   "outputs": [],
   "source": []
  },
  {
   "cell_type": "markdown",
   "metadata": {},
   "source": [
    "### 3.4\n",
    "- Divida entre train y test (tanto X como y).\n",
    "- Utilice 70% train y 30% test, modo aleatorio.\n"
   ]
  },
  {
   "cell_type": "code",
   "execution_count": null,
   "metadata": {},
   "outputs": [],
   "source": []
  },
  {
   "cell_type": "markdown",
   "metadata": {},
   "source": [
    "### 3.5\n",
    "\n",
    "- Vamos ahora a utilizar sklearn para calcular los pesos.\n",
    "- Utilizando from sklearn.linear_model import LinearRegression, y la división anterior en train y test. Ajuste el modelo y calcule $y_{pred}$, calcule las métricas $R2$ y $MSE$ entre el $y_{pred}$ y el $y_{test}$. \n"
   ]
  },
  {
   "cell_type": "code",
   "execution_count": null,
   "metadata": {},
   "outputs": [],
   "source": []
  },
  {
   "cell_type": "markdown",
   "metadata": {},
   "source": [
    "### 3.6\n",
    "\n",
    "- En esta parte vamos a probar los conceptos de  tran/validation/test y cross-validation.\n",
    "- Usando KFold y regresión Ridge, prepare un diseño experimental con 80% para el cross-validation y 20% para el test (distribución de manera aleatoria), con 5 folds. \n",
    "- La idea es encontrar el mejor valor para el hiperparámetro alfa en el modelo (factor de regularización). \n",
    "- Muestre los resultados obtenidos y coméntelos (mismas métricas $R2$ y $MSE$ ).\n"
   ]
  },
  {
   "cell_type": "code",
   "execution_count": null,
   "metadata": {},
   "outputs": [],
   "source": []
  },
  {
   "cell_type": "markdown",
   "metadata": {},
   "source": [
    "### 3.7\n",
    "\n",
    "- Analice cómo se comporta no solo el promedio, sino la desviación estándar."
   ]
  },
  {
   "cell_type": "code",
   "execution_count": null,
   "metadata": {},
   "outputs": [],
   "source": []
  }
 ],
 "metadata": {
  "colab": {
   "collapsed_sections": [],
   "name": "Evaluación_01.ipynb",
   "provenance": []
  },
  "kernelspec": {
   "display_name": "Python 3 (ipykernel)",
   "language": "python",
   "name": "python3"
  },
  "language_info": {
   "codemirror_mode": {
    "name": "ipython",
    "version": 3
   },
   "file_extension": ".py",
   "mimetype": "text/x-python",
   "name": "python",
   "nbconvert_exporter": "python",
   "pygments_lexer": "ipython3",
   "version": "3.9.6"
  }
 },
 "nbformat": 4,
 "nbformat_minor": 1
}
